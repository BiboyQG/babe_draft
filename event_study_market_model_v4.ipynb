{
 "cells": [
  {
   "cell_type": "markdown",
   "id": "073f89b6-3fc8-4580-8f85-810c70a73300",
   "metadata": {},
   "source": [
    "# Importing necessary libraries"
   ]
  },
  {
   "cell_type": "code",
   "execution_count": 1,
   "id": "51bf2603-e931-41b6-b5b8-d41467107004",
   "metadata": {},
   "outputs": [],
   "source": [
    "# Working directory\n",
    "import os\n",
    "\n",
    "# Processing data\n",
    "import pandas as pd\n",
    "import numpy as np\n",
    "import datetime\n",
    "\n",
    "# Linear regression model\n",
    "import statsmodels.api as sm\n",
    "\n",
    "# t test\n",
    "from scipy.stats import t\n",
    "\n",
    "# Plotting\n",
    "import matplotlib.pyplot as plt"
   ]
  },
  {
   "cell_type": "markdown",
   "id": "2382dbc4-cc3a-4cf6-bb1f-2fb2325e0aee",
   "metadata": {},
   "source": [
    "# 1. Event definition"
   ]
  },
  {
   "cell_type": "markdown",
   "id": "1e4b9e43-1c64-490a-88a2-1c085bc855de",
   "metadata": {},
   "source": [
    "#### We are conducting an analysis to assess the impact of a significant event on stock market returns.  The event of interest is the election of Donald J. Trump as the 47th President of the United States of America on November 6, 2024. We choose a 11-day event window, comprising 5 trading days before the event day, the event day, and 5 trading days after the event day.\n"
   ]
  },
  {
   "cell_type": "code",
   "execution_count": 2,
   "id": "0f994332-3cb2-434b-b3fd-0727bf2123db",
   "metadata": {},
   "outputs": [],
   "source": [
    "# Defining the event window \n",
    "event_date = '2001-07-10'\n",
    "event_start = -5\n",
    "event_end = 5"
   ]
  },
  {
   "cell_type": "markdown",
   "id": "2cac9678-d120-4a94-a810-554c3d6fbe02",
   "metadata": {},
   "source": [
    "# 2. Selection criteria"
   ]
  },
  {
   "cell_type": "markdown",
   "id": "8400dfdd-871d-40dd-be06-6b590845c4f6",
   "metadata": {},
   "source": [
    "#### Our study specifically focuses on Tesla, Inc., a company of particular interest due to its CEO, Elon Musk, who has publicly expressed his support for Donald Trump. "
   ]
  },
  {
   "cell_type": "code",
   "execution_count": 3,
   "id": "f1008986-4c68-473f-b8bb-66d30f910e6e",
   "metadata": {},
   "outputs": [],
   "source": [
    "# Defining the stock\n",
    "security_ticker = 'DDT'"
   ]
  },
  {
   "cell_type": "markdown",
   "id": "4f0f968c-8f0d-446c-b296-7b271e0276d5",
   "metadata": {},
   "source": [
    "# 3. Normal and abnormal returns"
   ]
  },
  {
   "cell_type": "markdown",
   "id": "2f8707f9-d741-47ff-b02c-9f4aa6b32edc",
   "metadata": {},
   "source": [
    "#### We use the market model to estimate normal returns, using the S&P 500 index as the market portfolio."
   ]
  },
  {
   "cell_type": "code",
   "execution_count": 4,
   "id": "f6a99236-86a0-45d4-a3f0-cd6fc9734f6e",
   "metadata": {},
   "outputs": [],
   "source": [
    "# Defining the market portfolio\n",
    "market_ticker = 'FTSE'"
   ]
  },
  {
   "cell_type": "markdown",
   "id": "32ef5b12-10a5-40f7-b2e3-0dc4fc185371",
   "metadata": {},
   "source": [
    "# 4. Estimation procedure"
   ]
  },
  {
   "cell_type": "markdown",
   "id": "e60d561f-a885-4d73-9018-e9efbbbdbabf",
   "metadata": {},
   "source": [
    "#### We choose a 120-trading-days estimation window ending 10 days prior to the event window."
   ]
  },
  {
   "cell_type": "code",
   "execution_count": 5,
   "id": "6af8a2d3-e48f-47a1-8746-1e73b80f83bb",
   "metadata": {
    "scrolled": true
   },
   "outputs": [],
   "source": [
    "# Defining the estimation window\n",
    "estimation_end = event_start - 5 - 1\n",
    "estimation_start = estimation_end - (310 - 1)"
   ]
  },
  {
   "cell_type": "markdown",
   "id": "85ca142c-334c-49e6-b89f-ca50254364f1",
   "metadata": {},
   "source": [
    "### Importing data"
   ]
  },
  {
   "cell_type": "code",
   "execution_count": 6,
   "id": "989707e5-5c22-4920-a0f0-3e341ff86370",
   "metadata": {},
   "outputs": [],
   "source": [
    "# Setting the working directory\n",
    "# os.chdir('C:/Users/fulia/OneDrive/xjtlu/ECO301/Code/event_study')"
   ]
  },
  {
   "cell_type": "code",
   "execution_count": 7,
   "id": "7843a612",
   "metadata": {},
   "outputs": [
    {
     "data": {
      "text/html": [
       "<div>\n",
       "<style scoped>\n",
       "    .dataframe tbody tr th:only-of-type {\n",
       "        vertical-align: middle;\n",
       "    }\n",
       "\n",
       "    .dataframe tbody tr th {\n",
       "        vertical-align: top;\n",
       "    }\n",
       "\n",
       "    .dataframe thead th {\n",
       "        text-align: right;\n",
       "    }\n",
       "</style>\n",
       "<table border=\"1\" class=\"dataframe\">\n",
       "  <thead>\n",
       "    <tr style=\"text-align: right;\">\n",
       "      <th></th>\n",
       "      <th>TradingDate</th>\n",
       "      <th>Symbol</th>\n",
       "      <th>StatusID</th>\n",
       "      <th>Filling</th>\n",
       "      <th>SecurityID</th>\n",
       "      <th>ClosePrice</th>\n",
       "    </tr>\n",
       "  </thead>\n",
       "  <tbody>\n",
       "    <tr>\n",
       "      <th>752</th>\n",
       "      <td>2002-12-23</td>\n",
       "      <td>DDT</td>\n",
       "      <td>0</td>\n",
       "      <td>0</td>\n",
       "      <td>NaN</td>\n",
       "      <td>27.50</td>\n",
       "    </tr>\n",
       "    <tr>\n",
       "      <th>753</th>\n",
       "      <td>2002-12-24</td>\n",
       "      <td>DDT</td>\n",
       "      <td>0</td>\n",
       "      <td>0</td>\n",
       "      <td>NaN</td>\n",
       "      <td>26.75</td>\n",
       "    </tr>\n",
       "    <tr>\n",
       "      <th>754</th>\n",
       "      <td>2002-12-27</td>\n",
       "      <td>DDT</td>\n",
       "      <td>0</td>\n",
       "      <td>0</td>\n",
       "      <td>NaN</td>\n",
       "      <td>27.25</td>\n",
       "    </tr>\n",
       "    <tr>\n",
       "      <th>755</th>\n",
       "      <td>2002-12-30</td>\n",
       "      <td>DDT</td>\n",
       "      <td>0</td>\n",
       "      <td>0</td>\n",
       "      <td>NaN</td>\n",
       "      <td>29.00</td>\n",
       "    </tr>\n",
       "    <tr>\n",
       "      <th>756</th>\n",
       "      <td>2002-12-31</td>\n",
       "      <td>DDT</td>\n",
       "      <td>0</td>\n",
       "      <td>0</td>\n",
       "      <td>NaN</td>\n",
       "      <td>29.00</td>\n",
       "    </tr>\n",
       "  </tbody>\n",
       "</table>\n",
       "</div>"
      ],
      "text/plain": [
       "    TradingDate Symbol  StatusID  Filling  SecurityID  ClosePrice\n",
       "752  2002-12-23    DDT         0        0         NaN       27.50\n",
       "753  2002-12-24    DDT         0        0         NaN       26.75\n",
       "754  2002-12-27    DDT         0        0         NaN       27.25\n",
       "755  2002-12-30    DDT         0        0         NaN       29.00\n",
       "756  2002-12-31    DDT         0        0         NaN       29.00"
      ]
     },
     "execution_count": 7,
     "metadata": {},
     "output_type": "execute_result"
    }
   ],
   "source": [
    "# Importing historical data: securities\n",
    "data_securities = pd.read_excel(\"stock_price_securities100_converted.xlsx\", skiprows=[1, 2])\n",
    "data_securities.tail()"
   ]
  },
  {
   "cell_type": "code",
   "execution_count": 8,
   "id": "f5eab4eb",
   "metadata": {},
   "outputs": [
    {
     "data": {
      "text/html": [
       "<div>\n",
       "<style scoped>\n",
       "    .dataframe tbody tr th:only-of-type {\n",
       "        vertical-align: middle;\n",
       "    }\n",
       "\n",
       "    .dataframe tbody tr th {\n",
       "        vertical-align: top;\n",
       "    }\n",
       "\n",
       "    .dataframe thead th {\n",
       "        text-align: right;\n",
       "    }\n",
       "</style>\n",
       "<table border=\"1\" class=\"dataframe\">\n",
       "  <thead>\n",
       "    <tr style=\"text-align: right;\">\n",
       "      <th></th>\n",
       "      <th>trading_date</th>\n",
       "      <th>security_ticker</th>\n",
       "      <th>price</th>\n",
       "    </tr>\n",
       "  </thead>\n",
       "  <tbody>\n",
       "    <tr>\n",
       "      <th>0</th>\n",
       "      <td>2000-01-04</td>\n",
       "      <td>DDT</td>\n",
       "      <td>NaN</td>\n",
       "    </tr>\n",
       "    <tr>\n",
       "      <th>1</th>\n",
       "      <td>2000-01-05</td>\n",
       "      <td>DDT</td>\n",
       "      <td>NaN</td>\n",
       "    </tr>\n",
       "    <tr>\n",
       "      <th>2</th>\n",
       "      <td>2000-01-06</td>\n",
       "      <td>DDT</td>\n",
       "      <td>NaN</td>\n",
       "    </tr>\n",
       "    <tr>\n",
       "      <th>3</th>\n",
       "      <td>2000-01-07</td>\n",
       "      <td>DDT</td>\n",
       "      <td>NaN</td>\n",
       "    </tr>\n",
       "    <tr>\n",
       "      <th>4</th>\n",
       "      <td>2000-01-10</td>\n",
       "      <td>DDT</td>\n",
       "      <td>NaN</td>\n",
       "    </tr>\n",
       "  </tbody>\n",
       "</table>\n",
       "</div>"
      ],
      "text/plain": [
       "  trading_date security_ticker  price\n",
       "0   2000-01-04             DDT    NaN\n",
       "1   2000-01-05             DDT    NaN\n",
       "2   2000-01-06             DDT    NaN\n",
       "3   2000-01-07             DDT    NaN\n",
       "4   2000-01-10             DDT    NaN"
      ]
     },
     "execution_count": 8,
     "metadata": {},
     "output_type": "execute_result"
    }
   ],
   "source": [
    "data_securities.rename(columns={'TradingDate': 'trading_date', 'Symbol': 'security_ticker', 'ClosePrice': 'price'}, \n",
    "                       inplace=True)\n",
    "data_securities = data_securities[['trading_date', 'security_ticker', 'price']]\n",
    "data_securities = data_securities[data_securities['security_ticker']==security_ticker]\n",
    "data_securities.head()"
   ]
  },
  {
   "cell_type": "code",
   "execution_count": 9,
   "id": "c23846d5",
   "metadata": {},
   "outputs": [
    {
     "data": {
      "text/html": [
       "<div>\n",
       "<style scoped>\n",
       "    .dataframe tbody tr th:only-of-type {\n",
       "        vertical-align: middle;\n",
       "    }\n",
       "\n",
       "    .dataframe tbody tr th {\n",
       "        vertical-align: top;\n",
       "    }\n",
       "\n",
       "    .dataframe thead th {\n",
       "        text-align: right;\n",
       "    }\n",
       "</style>\n",
       "<table border=\"1\" class=\"dataframe\">\n",
       "  <thead>\n",
       "    <tr style=\"text-align: right;\">\n",
       "      <th></th>\n",
       "      <th>trading_date</th>\n",
       "      <th>return</th>\n",
       "    </tr>\n",
       "  </thead>\n",
       "  <tbody>\n",
       "    <tr>\n",
       "      <th>0</th>\n",
       "      <td>2000-01-04</td>\n",
       "      <td>NaN</td>\n",
       "    </tr>\n",
       "    <tr>\n",
       "      <th>1</th>\n",
       "      <td>2000-01-05</td>\n",
       "      <td>NaN</td>\n",
       "    </tr>\n",
       "    <tr>\n",
       "      <th>2</th>\n",
       "      <td>2000-01-06</td>\n",
       "      <td>NaN</td>\n",
       "    </tr>\n",
       "    <tr>\n",
       "      <th>3</th>\n",
       "      <td>2000-01-07</td>\n",
       "      <td>NaN</td>\n",
       "    </tr>\n",
       "    <tr>\n",
       "      <th>4</th>\n",
       "      <td>2000-01-10</td>\n",
       "      <td>NaN</td>\n",
       "    </tr>\n",
       "  </tbody>\n",
       "</table>\n",
       "</div>"
      ],
      "text/plain": [
       "  trading_date  return\n",
       "0   2000-01-04     NaN\n",
       "1   2000-01-05     NaN\n",
       "2   2000-01-06     NaN\n",
       "3   2000-01-07     NaN\n",
       "4   2000-01-10     NaN"
      ]
     },
     "execution_count": 9,
     "metadata": {},
     "output_type": "execute_result"
    }
   ],
   "source": [
    "## Calculating daily returns \n",
    "data_securities['return'] =  data_securities['price'].pct_change()\n",
    "data_securities = data_securities[['trading_date', 'return']]\n",
    "data_securities.head()"
   ]
  },
  {
   "cell_type": "code",
   "execution_count": 10,
   "id": "dc6659f1",
   "metadata": {},
   "outputs": [
    {
     "data": {
      "text/html": [
       "<div>\n",
       "<style scoped>\n",
       "    .dataframe tbody tr th:only-of-type {\n",
       "        vertical-align: middle;\n",
       "    }\n",
       "\n",
       "    .dataframe tbody tr th {\n",
       "        vertical-align: top;\n",
       "    }\n",
       "\n",
       "    .dataframe thead th {\n",
       "        text-align: right;\n",
       "    }\n",
       "</style>\n",
       "<table border=\"1\" class=\"dataframe\">\n",
       "  <thead>\n",
       "    <tr style=\"text-align: right;\">\n",
       "      <th></th>\n",
       "      <th>Indexcd</th>\n",
       "      <th>Trddt</th>\n",
       "      <th>ExhcdOrIndexcd</th>\n",
       "      <th>IndexName</th>\n",
       "      <th>Clsidx</th>\n",
       "    </tr>\n",
       "  </thead>\n",
       "  <tbody>\n",
       "    <tr>\n",
       "      <th>0</th>\n",
       "      <td>FTSE</td>\n",
       "      <td>2000-01-04</td>\n",
       "      <td>SPI</td>\n",
       "      <td>FTSE100</td>\n",
       "      <td>6665.9</td>\n",
       "    </tr>\n",
       "    <tr>\n",
       "      <th>1</th>\n",
       "      <td>FTSE</td>\n",
       "      <td>2000-01-05</td>\n",
       "      <td>SPI</td>\n",
       "      <td>FTSE100</td>\n",
       "      <td>6535.9</td>\n",
       "    </tr>\n",
       "    <tr>\n",
       "      <th>2</th>\n",
       "      <td>FTSE</td>\n",
       "      <td>2000-01-06</td>\n",
       "      <td>SPI</td>\n",
       "      <td>FTSE100</td>\n",
       "      <td>6447.2</td>\n",
       "    </tr>\n",
       "    <tr>\n",
       "      <th>3</th>\n",
       "      <td>FTSE</td>\n",
       "      <td>2000-01-07</td>\n",
       "      <td>SPI</td>\n",
       "      <td>FTSE100</td>\n",
       "      <td>6504.8</td>\n",
       "    </tr>\n",
       "    <tr>\n",
       "      <th>4</th>\n",
       "      <td>FTSE</td>\n",
       "      <td>2000-01-10</td>\n",
       "      <td>SPI</td>\n",
       "      <td>FTSE100</td>\n",
       "      <td>6607.7</td>\n",
       "    </tr>\n",
       "  </tbody>\n",
       "</table>\n",
       "</div>"
      ],
      "text/plain": [
       "  Indexcd       Trddt ExhcdOrIndexcd IndexName  Clsidx\n",
       "0    FTSE  2000-01-04            SPI   FTSE100  6665.9\n",
       "1    FTSE  2000-01-05            SPI   FTSE100  6535.9\n",
       "2    FTSE  2000-01-06            SPI   FTSE100  6447.2\n",
       "3    FTSE  2000-01-07            SPI   FTSE100  6504.8\n",
       "4    FTSE  2000-01-10            SPI   FTSE100  6607.7"
      ]
     },
     "execution_count": 10,
     "metadata": {},
     "output_type": "execute_result"
    }
   ],
   "source": [
    "# Importing historical data: market portfolio\n",
    "data_market = pd.read_excel(\"stock_price_market100_converted.xlsx\", skiprows=[1, 2])\n",
    "data_market.head()"
   ]
  },
  {
   "cell_type": "code",
   "execution_count": 11,
   "id": "dbee2c6b",
   "metadata": {},
   "outputs": [
    {
     "data": {
      "text/html": [
       "<div>\n",
       "<style scoped>\n",
       "    .dataframe tbody tr th:only-of-type {\n",
       "        vertical-align: middle;\n",
       "    }\n",
       "\n",
       "    .dataframe tbody tr th {\n",
       "        vertical-align: top;\n",
       "    }\n",
       "\n",
       "    .dataframe thead th {\n",
       "        text-align: right;\n",
       "    }\n",
       "</style>\n",
       "<table border=\"1\" class=\"dataframe\">\n",
       "  <thead>\n",
       "    <tr style=\"text-align: right;\">\n",
       "      <th></th>\n",
       "      <th>trading_date</th>\n",
       "      <th>market_ticker</th>\n",
       "      <th>price</th>\n",
       "    </tr>\n",
       "  </thead>\n",
       "  <tbody>\n",
       "    <tr>\n",
       "      <th>0</th>\n",
       "      <td>2000-01-04</td>\n",
       "      <td>FTSE</td>\n",
       "      <td>6665.9</td>\n",
       "    </tr>\n",
       "    <tr>\n",
       "      <th>1</th>\n",
       "      <td>2000-01-05</td>\n",
       "      <td>FTSE</td>\n",
       "      <td>6535.9</td>\n",
       "    </tr>\n",
       "    <tr>\n",
       "      <th>2</th>\n",
       "      <td>2000-01-06</td>\n",
       "      <td>FTSE</td>\n",
       "      <td>6447.2</td>\n",
       "    </tr>\n",
       "    <tr>\n",
       "      <th>3</th>\n",
       "      <td>2000-01-07</td>\n",
       "      <td>FTSE</td>\n",
       "      <td>6504.8</td>\n",
       "    </tr>\n",
       "    <tr>\n",
       "      <th>4</th>\n",
       "      <td>2000-01-10</td>\n",
       "      <td>FTSE</td>\n",
       "      <td>6607.7</td>\n",
       "    </tr>\n",
       "  </tbody>\n",
       "</table>\n",
       "</div>"
      ],
      "text/plain": [
       "  trading_date market_ticker   price\n",
       "0   2000-01-04          FTSE  6665.9\n",
       "1   2000-01-05          FTSE  6535.9\n",
       "2   2000-01-06          FTSE  6447.2\n",
       "3   2000-01-07          FTSE  6504.8\n",
       "4   2000-01-10          FTSE  6607.7"
      ]
     },
     "execution_count": 11,
     "metadata": {},
     "output_type": "execute_result"
    }
   ],
   "source": [
    "data_market.rename(columns={'Indexcd': 'market_ticker', 'Trddt': 'trading_date', 'Clsidx': 'price'}, \n",
    "                   inplace=True)\n",
    "data_market = data_market[['trading_date', 'market_ticker', 'price']]\n",
    "data_market = data_market[data_market['market_ticker']==market_ticker]\n",
    "data_market.head()"
   ]
  },
  {
   "cell_type": "code",
   "execution_count": 12,
   "id": "05c74e4a",
   "metadata": {},
   "outputs": [
    {
     "data": {
      "text/html": [
       "<div>\n",
       "<style scoped>\n",
       "    .dataframe tbody tr th:only-of-type {\n",
       "        vertical-align: middle;\n",
       "    }\n",
       "\n",
       "    .dataframe tbody tr th {\n",
       "        vertical-align: top;\n",
       "    }\n",
       "\n",
       "    .dataframe thead th {\n",
       "        text-align: right;\n",
       "    }\n",
       "</style>\n",
       "<table border=\"1\" class=\"dataframe\">\n",
       "  <thead>\n",
       "    <tr style=\"text-align: right;\">\n",
       "      <th></th>\n",
       "      <th>trading_date</th>\n",
       "      <th>market_return</th>\n",
       "    </tr>\n",
       "  </thead>\n",
       "  <tbody>\n",
       "    <tr>\n",
       "      <th>0</th>\n",
       "      <td>2000-01-04</td>\n",
       "      <td>NaN</td>\n",
       "    </tr>\n",
       "    <tr>\n",
       "      <th>1</th>\n",
       "      <td>2000-01-05</td>\n",
       "      <td>-0.019502</td>\n",
       "    </tr>\n",
       "    <tr>\n",
       "      <th>2</th>\n",
       "      <td>2000-01-06</td>\n",
       "      <td>-0.013571</td>\n",
       "    </tr>\n",
       "    <tr>\n",
       "      <th>3</th>\n",
       "      <td>2000-01-07</td>\n",
       "      <td>0.008934</td>\n",
       "    </tr>\n",
       "    <tr>\n",
       "      <th>4</th>\n",
       "      <td>2000-01-10</td>\n",
       "      <td>0.015819</td>\n",
       "    </tr>\n",
       "  </tbody>\n",
       "</table>\n",
       "</div>"
      ],
      "text/plain": [
       "  trading_date  market_return\n",
       "0   2000-01-04            NaN\n",
       "1   2000-01-05      -0.019502\n",
       "2   2000-01-06      -0.013571\n",
       "3   2000-01-07       0.008934\n",
       "4   2000-01-10       0.015819"
      ]
     },
     "execution_count": 12,
     "metadata": {},
     "output_type": "execute_result"
    }
   ],
   "source": [
    "## Calculating daily returns \n",
    "data_market['market_return'] =  data_market['price'].pct_change()\n",
    "data_market = data_market[['trading_date', 'market_return']]\n",
    "data_market.head()"
   ]
  },
  {
   "cell_type": "code",
   "execution_count": 13,
   "id": "2575e83d-9b25-4e36-9573-f9827a3b82f9",
   "metadata": {
    "scrolled": true
   },
   "outputs": [
    {
     "data": {
      "text/html": [
       "<div>\n",
       "<style scoped>\n",
       "    .dataframe tbody tr th:only-of-type {\n",
       "        vertical-align: middle;\n",
       "    }\n",
       "\n",
       "    .dataframe tbody tr th {\n",
       "        vertical-align: top;\n",
       "    }\n",
       "\n",
       "    .dataframe thead th {\n",
       "        text-align: right;\n",
       "    }\n",
       "</style>\n",
       "<table border=\"1\" class=\"dataframe\">\n",
       "  <thead>\n",
       "    <tr style=\"text-align: right;\">\n",
       "      <th></th>\n",
       "      <th>trading_date</th>\n",
       "      <th>return</th>\n",
       "      <th>market_return</th>\n",
       "    </tr>\n",
       "  </thead>\n",
       "  <tbody>\n",
       "    <tr>\n",
       "      <th>0</th>\n",
       "      <td>2000-01-04</td>\n",
       "      <td>NaN</td>\n",
       "      <td>NaN</td>\n",
       "    </tr>\n",
       "    <tr>\n",
       "      <th>1</th>\n",
       "      <td>2000-01-05</td>\n",
       "      <td>NaN</td>\n",
       "      <td>-0.019502</td>\n",
       "    </tr>\n",
       "    <tr>\n",
       "      <th>2</th>\n",
       "      <td>2000-01-06</td>\n",
       "      <td>NaN</td>\n",
       "      <td>-0.013571</td>\n",
       "    </tr>\n",
       "    <tr>\n",
       "      <th>3</th>\n",
       "      <td>2000-01-07</td>\n",
       "      <td>NaN</td>\n",
       "      <td>0.008934</td>\n",
       "    </tr>\n",
       "    <tr>\n",
       "      <th>4</th>\n",
       "      <td>2000-01-10</td>\n",
       "      <td>NaN</td>\n",
       "      <td>0.015819</td>\n",
       "    </tr>\n",
       "  </tbody>\n",
       "</table>\n",
       "</div>"
      ],
      "text/plain": [
       "  trading_date  return  market_return\n",
       "0   2000-01-04     NaN            NaN\n",
       "1   2000-01-05     NaN      -0.019502\n",
       "2   2000-01-06     NaN      -0.013571\n",
       "3   2000-01-07     NaN       0.008934\n",
       "4   2000-01-10     NaN       0.015819"
      ]
     },
     "execution_count": 13,
     "metadata": {},
     "output_type": "execute_result"
    }
   ],
   "source": [
    "# Merging data sets\n",
    "data_all = pd.merge(data_securities, data_market, on='trading_date', how='left')\n",
    "data_all.head()"
   ]
  },
  {
   "cell_type": "code",
   "execution_count": 14,
   "id": "8d4bf7b5",
   "metadata": {},
   "outputs": [],
   "source": [
    "index_event_day = data_all.index[data_all['trading_date']==event_date].tolist()"
   ]
  },
  {
   "cell_type": "code",
   "execution_count": 15,
   "id": "b4c6be01",
   "metadata": {},
   "outputs": [
    {
     "data": {
      "text/plain": [
       "[383]"
      ]
     },
     "execution_count": 15,
     "metadata": {},
     "output_type": "execute_result"
    }
   ],
   "source": [
    "index_event_day"
   ]
  },
  {
   "cell_type": "code",
   "execution_count": 16,
   "id": "d4dd0639",
   "metadata": {},
   "outputs": [
    {
     "data": {
      "text/html": [
       "<div>\n",
       "<style scoped>\n",
       "    .dataframe tbody tr th:only-of-type {\n",
       "        vertical-align: middle;\n",
       "    }\n",
       "\n",
       "    .dataframe tbody tr th {\n",
       "        vertical-align: top;\n",
       "    }\n",
       "\n",
       "    .dataframe thead th {\n",
       "        text-align: right;\n",
       "    }\n",
       "</style>\n",
       "<table border=\"1\" class=\"dataframe\">\n",
       "  <thead>\n",
       "    <tr style=\"text-align: right;\">\n",
       "      <th></th>\n",
       "      <th>trading_date</th>\n",
       "      <th>return</th>\n",
       "      <th>market_return</th>\n",
       "      <th>event_time</th>\n",
       "    </tr>\n",
       "  </thead>\n",
       "  <tbody>\n",
       "    <tr>\n",
       "      <th>378</th>\n",
       "      <td>2001-07-03</td>\n",
       "      <td>-0.286792</td>\n",
       "      <td>-0.013434</td>\n",
       "      <td>-5</td>\n",
       "    </tr>\n",
       "    <tr>\n",
       "      <th>379</th>\n",
       "      <td>2001-07-04</td>\n",
       "      <td>-0.148148</td>\n",
       "      <td>-0.006986</td>\n",
       "      <td>-4</td>\n",
       "    </tr>\n",
       "    <tr>\n",
       "      <th>380</th>\n",
       "      <td>2001-07-05</td>\n",
       "      <td>-0.049689</td>\n",
       "      <td>-0.009088</td>\n",
       "      <td>-3</td>\n",
       "    </tr>\n",
       "    <tr>\n",
       "      <th>381</th>\n",
       "      <td>2001-07-06</td>\n",
       "      <td>-0.031046</td>\n",
       "      <td>-0.012686</td>\n",
       "      <td>-2</td>\n",
       "    </tr>\n",
       "    <tr>\n",
       "      <th>382</th>\n",
       "      <td>2001-07-09</td>\n",
       "      <td>-0.003373</td>\n",
       "      <td>-0.001880</td>\n",
       "      <td>-1</td>\n",
       "    </tr>\n",
       "    <tr>\n",
       "      <th>383</th>\n",
       "      <td>2001-07-10</td>\n",
       "      <td>0.018613</td>\n",
       "      <td>-0.000183</td>\n",
       "      <td>0</td>\n",
       "    </tr>\n",
       "    <tr>\n",
       "      <th>384</th>\n",
       "      <td>2001-07-11</td>\n",
       "      <td>-0.063123</td>\n",
       "      <td>-0.013899</td>\n",
       "      <td>1</td>\n",
       "    </tr>\n",
       "    <tr>\n",
       "      <th>385</th>\n",
       "      <td>2001-07-12</td>\n",
       "      <td>0.070922</td>\n",
       "      <td>0.016636</td>\n",
       "      <td>2</td>\n",
       "    </tr>\n",
       "    <tr>\n",
       "      <th>386</th>\n",
       "      <td>2001-07-13</td>\n",
       "      <td>-0.006623</td>\n",
       "      <td>0.010107</td>\n",
       "      <td>3</td>\n",
       "    </tr>\n",
       "    <tr>\n",
       "      <th>387</th>\n",
       "      <td>2001-07-16</td>\n",
       "      <td>-0.003333</td>\n",
       "      <td>-0.003594</td>\n",
       "      <td>4</td>\n",
       "    </tr>\n",
       "    <tr>\n",
       "      <th>388</th>\n",
       "      <td>2001-07-17</td>\n",
       "      <td>0.003344</td>\n",
       "      <td>-0.016186</td>\n",
       "      <td>5</td>\n",
       "    </tr>\n",
       "  </tbody>\n",
       "</table>\n",
       "</div>"
      ],
      "text/plain": [
       "    trading_date    return  market_return  event_time\n",
       "378   2001-07-03 -0.286792      -0.013434          -5\n",
       "379   2001-07-04 -0.148148      -0.006986          -4\n",
       "380   2001-07-05 -0.049689      -0.009088          -3\n",
       "381   2001-07-06 -0.031046      -0.012686          -2\n",
       "382   2001-07-09 -0.003373      -0.001880          -1\n",
       "383   2001-07-10  0.018613      -0.000183           0\n",
       "384   2001-07-11 -0.063123      -0.013899           1\n",
       "385   2001-07-12  0.070922       0.016636           2\n",
       "386   2001-07-13 -0.006623       0.010107           3\n",
       "387   2001-07-16 -0.003333      -0.003594           4\n",
       "388   2001-07-17  0.003344      -0.016186           5"
      ]
     },
     "execution_count": 16,
     "metadata": {},
     "output_type": "execute_result"
    }
   ],
   "source": [
    "if index_event_day:\n",
    "    data_all['event_time'] = 0\n",
    "    for i in range(len(data_all)):\n",
    "        data_all.loc[data_all.index[i], 'event_time'] = i - index_event_day[0]\n",
    "else:\n",
    "    print(\"No trading date matches the event date.\")\n",
    "data_all[(data_all['event_time']>=event_start) & (data_all['event_time']<=event_end)]"
   ]
  },
  {
   "cell_type": "markdown",
   "id": "08ca5f6e",
   "metadata": {},
   "source": [
    "### Estimating the market model"
   ]
  },
  {
   "cell_type": "code",
   "execution_count": 17,
   "id": "5ef02fc1",
   "metadata": {},
   "outputs": [
    {
     "data": {
      "text/html": [
       "<div>\n",
       "<style scoped>\n",
       "    .dataframe tbody tr th:only-of-type {\n",
       "        vertical-align: middle;\n",
       "    }\n",
       "\n",
       "    .dataframe tbody tr th {\n",
       "        vertical-align: top;\n",
       "    }\n",
       "\n",
       "    .dataframe thead th {\n",
       "        text-align: right;\n",
       "    }\n",
       "</style>\n",
       "<table border=\"1\" class=\"dataframe\">\n",
       "  <thead>\n",
       "    <tr style=\"text-align: right;\">\n",
       "      <th></th>\n",
       "      <th>trading_date</th>\n",
       "      <th>return</th>\n",
       "      <th>market_return</th>\n",
       "      <th>event_time</th>\n",
       "    </tr>\n",
       "  </thead>\n",
       "  <tbody>\n",
       "    <tr>\n",
       "      <th>368</th>\n",
       "      <td>2001-06-19</td>\n",
       "      <td>0.047872</td>\n",
       "      <td>0.001552</td>\n",
       "      <td>-15</td>\n",
       "    </tr>\n",
       "    <tr>\n",
       "      <th>369</th>\n",
       "      <td>2001-06-20</td>\n",
       "      <td>-0.035533</td>\n",
       "      <td>0.003380</td>\n",
       "      <td>-14</td>\n",
       "    </tr>\n",
       "    <tr>\n",
       "      <th>370</th>\n",
       "      <td>2001-06-21</td>\n",
       "      <td>0.017544</td>\n",
       "      <td>-0.010211</td>\n",
       "      <td>-13</td>\n",
       "    </tr>\n",
       "    <tr>\n",
       "      <th>371</th>\n",
       "      <td>2001-06-22</td>\n",
       "      <td>0.010345</td>\n",
       "      <td>0.004307</td>\n",
       "      <td>-12</td>\n",
       "    </tr>\n",
       "    <tr>\n",
       "      <th>372</th>\n",
       "      <td>2001-06-25</td>\n",
       "      <td>0.006826</td>\n",
       "      <td>-0.000671</td>\n",
       "      <td>-11</td>\n",
       "    </tr>\n",
       "  </tbody>\n",
       "</table>\n",
       "</div>"
      ],
      "text/plain": [
       "    trading_date    return  market_return  event_time\n",
       "368   2001-06-19  0.047872       0.001552         -15\n",
       "369   2001-06-20 -0.035533       0.003380         -14\n",
       "370   2001-06-21  0.017544      -0.010211         -13\n",
       "371   2001-06-22  0.010345       0.004307         -12\n",
       "372   2001-06-25  0.006826      -0.000671         -11"
      ]
     },
     "execution_count": 17,
     "metadata": {},
     "output_type": "execute_result"
    }
   ],
   "source": [
    "data_all_estimation = data_all[(data_all['event_time']>=estimation_start) & (data_all['event_time']<=estimation_end)]\n",
    "data_all_estimation.tail()"
   ]
  },
  {
   "cell_type": "code",
   "execution_count": 18,
   "id": "82fecd96",
   "metadata": {},
   "outputs": [
    {
     "name": "stdout",
     "output_type": "stream",
     "text": [
      "310\n",
      "234\n"
     ]
    },
    {
     "name": "stderr",
     "output_type": "stream",
     "text": [
      "/var/folders/1s/plws044x63xc53g7y6vyflzh0000gn/T/ipykernel_21418/1162392699.py:2: SettingWithCopyWarning: \n",
      "A value is trying to be set on a copy of a slice from a DataFrame\n",
      "\n",
      "See the caveats in the documentation: https://pandas.pydata.org/pandas-docs/stable/user_guide/indexing.html#returning-a-view-versus-a-copy\n",
      "  data_all_estimation.dropna(inplace=True)\n"
     ]
    }
   ],
   "source": [
    "print(len(data_all_estimation))\n",
    "data_all_estimation.dropna(inplace=True)\n",
    "print(len(data_all_estimation))"
   ]
  },
  {
   "cell_type": "code",
   "execution_count": 19,
   "id": "ada8231c",
   "metadata": {},
   "outputs": [
    {
     "name": "stdout",
     "output_type": "stream",
     "text": [
      "                            OLS Regression Results                            \n",
      "==============================================================================\n",
      "Dep. Variable:                 return   R-squared:                       0.375\n",
      "Model:                            OLS   Adj. R-squared:                  0.373\n",
      "Method:                 Least Squares   F-statistic:                     139.4\n",
      "Date:                Thu, 05 Dec 2024   Prob (F-statistic):           1.68e-25\n",
      "Time:                        16:18:39   Log-Likelihood:                 492.11\n",
      "No. Observations:                 234   AIC:                            -980.2\n",
      "Df Residuals:                     232   BIC:                            -973.3\n",
      "Df Model:                           1                                         \n",
      "Covariance Type:            nonrobust                                         \n",
      "=================================================================================\n",
      "                    coef    std err          t      P>|t|      [0.025      0.975]\n",
      "---------------------------------------------------------------------------------\n",
      "const            -0.0011      0.002     -0.556      0.579      -0.005       0.003\n",
      "market_return     2.0423      0.173     11.806      0.000       1.701       2.383\n",
      "==============================================================================\n",
      "Omnibus:                        8.950   Durbin-Watson:                   1.960\n",
      "Prob(Omnibus):                  0.011   Jarque-Bera (JB):               15.928\n",
      "Skew:                           0.127   Prob(JB):                     0.000348\n",
      "Kurtosis:                       4.253   Cond. No.                         89.2\n",
      "==============================================================================\n",
      "\n",
      "Notes:\n",
      "[1] Standard Errors assume that the covariance matrix of the errors is correctly specified.\n"
     ]
    }
   ],
   "source": [
    "X_estimation = data_all_estimation['market_return']\n",
    "X_estimation = sm.add_constant(X_estimation)\n",
    "R_estimation = data_all_estimation['return']\n",
    "market_model = sm.OLS(R_estimation, X_estimation).fit()\n",
    "print(market_model.summary())"
   ]
  },
  {
   "cell_type": "markdown",
   "id": "863607f2-4f36-494d-ac5b-87995afbc2af",
   "metadata": {},
   "source": [
    "# 5. Testing procedure"
   ]
  },
  {
   "cell_type": "markdown",
   "id": "5d504d07",
   "metadata": {},
   "source": [
    "### Calculating abnormal returns"
   ]
  },
  {
   "cell_type": "code",
   "execution_count": 164,
   "id": "2a60341c",
   "metadata": {},
   "outputs": [
    {
     "data": {
      "text/html": [
       "<div>\n",
       "<style scoped>\n",
       "    .dataframe tbody tr th:only-of-type {\n",
       "        vertical-align: middle;\n",
       "    }\n",
       "\n",
       "    .dataframe tbody tr th {\n",
       "        vertical-align: top;\n",
       "    }\n",
       "\n",
       "    .dataframe thead th {\n",
       "        text-align: right;\n",
       "    }\n",
       "</style>\n",
       "<table border=\"1\" class=\"dataframe\">\n",
       "  <thead>\n",
       "    <tr style=\"text-align: right;\">\n",
       "      <th></th>\n",
       "      <th>index</th>\n",
       "      <th>trading_date</th>\n",
       "      <th>return</th>\n",
       "      <th>market_return</th>\n",
       "      <th>event_time</th>\n",
       "    </tr>\n",
       "  </thead>\n",
       "  <tbody>\n",
       "    <tr>\n",
       "      <th>0</th>\n",
       "      <td>378</td>\n",
       "      <td>2001-07-03</td>\n",
       "      <td>-0.286792</td>\n",
       "      <td>-0.013434</td>\n",
       "      <td>-5</td>\n",
       "    </tr>\n",
       "    <tr>\n",
       "      <th>1</th>\n",
       "      <td>379</td>\n",
       "      <td>2001-07-04</td>\n",
       "      <td>-0.148148</td>\n",
       "      <td>-0.006986</td>\n",
       "      <td>-4</td>\n",
       "    </tr>\n",
       "    <tr>\n",
       "      <th>2</th>\n",
       "      <td>380</td>\n",
       "      <td>2001-07-05</td>\n",
       "      <td>-0.049689</td>\n",
       "      <td>-0.009088</td>\n",
       "      <td>-3</td>\n",
       "    </tr>\n",
       "    <tr>\n",
       "      <th>3</th>\n",
       "      <td>381</td>\n",
       "      <td>2001-07-06</td>\n",
       "      <td>-0.031046</td>\n",
       "      <td>-0.012686</td>\n",
       "      <td>-2</td>\n",
       "    </tr>\n",
       "    <tr>\n",
       "      <th>4</th>\n",
       "      <td>382</td>\n",
       "      <td>2001-07-09</td>\n",
       "      <td>-0.003373</td>\n",
       "      <td>-0.001880</td>\n",
       "      <td>-1</td>\n",
       "    </tr>\n",
       "    <tr>\n",
       "      <th>5</th>\n",
       "      <td>383</td>\n",
       "      <td>2001-07-10</td>\n",
       "      <td>0.018613</td>\n",
       "      <td>-0.000183</td>\n",
       "      <td>0</td>\n",
       "    </tr>\n",
       "    <tr>\n",
       "      <th>6</th>\n",
       "      <td>384</td>\n",
       "      <td>2001-07-11</td>\n",
       "      <td>-0.063123</td>\n",
       "      <td>-0.013899</td>\n",
       "      <td>1</td>\n",
       "    </tr>\n",
       "    <tr>\n",
       "      <th>7</th>\n",
       "      <td>385</td>\n",
       "      <td>2001-07-12</td>\n",
       "      <td>0.070922</td>\n",
       "      <td>0.016636</td>\n",
       "      <td>2</td>\n",
       "    </tr>\n",
       "    <tr>\n",
       "      <th>8</th>\n",
       "      <td>386</td>\n",
       "      <td>2001-07-13</td>\n",
       "      <td>-0.006623</td>\n",
       "      <td>0.010107</td>\n",
       "      <td>3</td>\n",
       "    </tr>\n",
       "    <tr>\n",
       "      <th>9</th>\n",
       "      <td>387</td>\n",
       "      <td>2001-07-16</td>\n",
       "      <td>-0.003333</td>\n",
       "      <td>-0.003594</td>\n",
       "      <td>4</td>\n",
       "    </tr>\n",
       "    <tr>\n",
       "      <th>10</th>\n",
       "      <td>388</td>\n",
       "      <td>2001-07-17</td>\n",
       "      <td>0.003344</td>\n",
       "      <td>-0.016186</td>\n",
       "      <td>5</td>\n",
       "    </tr>\n",
       "  </tbody>\n",
       "</table>\n",
       "</div>"
      ],
      "text/plain": [
       "    index trading_date    return  market_return  event_time\n",
       "0     378   2001-07-03 -0.286792      -0.013434          -5\n",
       "1     379   2001-07-04 -0.148148      -0.006986          -4\n",
       "2     380   2001-07-05 -0.049689      -0.009088          -3\n",
       "3     381   2001-07-06 -0.031046      -0.012686          -2\n",
       "4     382   2001-07-09 -0.003373      -0.001880          -1\n",
       "5     383   2001-07-10  0.018613      -0.000183           0\n",
       "6     384   2001-07-11 -0.063123      -0.013899           1\n",
       "7     385   2001-07-12  0.070922       0.016636           2\n",
       "8     386   2001-07-13 -0.006623       0.010107           3\n",
       "9     387   2001-07-16 -0.003333      -0.003594           4\n",
       "10    388   2001-07-17  0.003344      -0.016186           5"
      ]
     },
     "execution_count": 164,
     "metadata": {},
     "output_type": "execute_result"
    }
   ],
   "source": [
    "data_all_event = data_all[(data_all['event_time']>=event_start) & (data_all['event_time']<=event_end)]\n",
    "data_all_event = data_all_event.reset_index()\n",
    "data_all_event"
   ]
  },
  {
   "cell_type": "code",
   "execution_count": 165,
   "id": "5224afac",
   "metadata": {},
   "outputs": [],
   "source": [
    "## Calculating normal returns \n",
    "X_event = data_all_event['market_return']\n",
    "X_event = sm.add_constant(X_event)\n",
    "data_all_event['normal_return'] = market_model.predict(X_event)"
   ]
  },
  {
   "cell_type": "code",
   "execution_count": 166,
   "id": "c3aeede1-bac4-4cf3-9461-0aca29d5af75",
   "metadata": {},
   "outputs": [],
   "source": [
    "# Calculateing abnormal returns as the difference between actual returns and normal returns\n",
    "data_all_event['abnormal_return'] = data_all_event['return'] - data_all_event['normal_return']"
   ]
  },
  {
   "cell_type": "markdown",
   "id": "ad46d2bb",
   "metadata": {},
   "source": [
    "### Calculating cumulative abnormal returns"
   ]
  },
  {
   "cell_type": "code",
   "execution_count": 167,
   "id": "135a40cd",
   "metadata": {},
   "outputs": [],
   "source": [
    "# Aggregating the abnormal returns over the event window to get the cumulative abnormal returns\n",
    "data_all_event['cumulative_abnormal_return'] = data_all_event['abnormal_return'].cumsum()"
   ]
  },
  {
   "cell_type": "code",
   "execution_count": 168,
   "id": "fca91e21",
   "metadata": {
    "scrolled": false
   },
   "outputs": [
    {
     "data": {
      "image/png": "[encoded data removed]",
      "text/plain": [
       "<Figure size 1000x600 with 1 Axes>"
      ]
     },
     "metadata": {},
     "output_type": "display_data"
    }
   ],
   "source": [
    "# Plotting the cumulative abnormal returns\n",
    "plt.figure(figsize=(10, 6)) \n",
    "plt.plot(data_all_event['event_time'], 100*data_all_event['cumulative_abnormal_return'], \n",
    "         marker='o', linestyle='-', color='b', markersize=8) \n",
    "plt.axhline(0, color='black', linewidth=0.8)\n",
    "\n",
    "## Customizing the plot\n",
    "plt.xlabel('Event Time', fontsize=16)\n",
    "plt.ylabel('CAR (%)', fontsize=16)\n",
    "ticks = [-5, -4, -3, -2, -1, 0, 1, 2, 3, 4, 5]\n",
    "plt.xticks(ticks, ticks)\n",
    "plt.xticks(fontsize=14)\n",
    "plt.yticks(fontsize=14)\n",
    "\n",
    "## Showing the plot\n",
    "plt.show()"
   ]
  },
  {
   "cell_type": "markdown",
   "id": "0070dc51",
   "metadata": {},
   "source": [
    "### Significane of ARs and CARs"
   ]
  },
  {
   "cell_type": "code",
   "execution_count": 169,
   "id": "85f0ebc9-0147-4d7c-ac77-4fef77fe22aa",
   "metadata": {},
   "outputs": [
    {
     "data": {
      "text/plain": [
       "np.float64(0.02966852719172759)"
      ]
     },
     "execution_count": 169,
     "metadata": {},
     "output_type": "execute_result"
    }
   ],
   "source": [
    "# Calculating the sample standard errors of ARs\n",
    "## Equations (4.4) and (4.5)\n",
    "L1 = data_all_estimation.shape[0]\n",
    "e_hat_estimation = market_model.resid\n",
    "sigma2_hat = np.sum(np.square(e_hat_estimation)) / (L1 - 2)\n",
    "np.sqrt(sigma2_hat)"
   ]
  },
  {
   "cell_type": "code",
   "execution_count": 170,
   "id": "9426f92e",
   "metadata": {},
   "outputs": [
    {
     "data": {
      "text/html": [
       "<div>\n",
       "<style scoped>\n",
       "    .dataframe tbody tr th:only-of-type {\n",
       "        vertical-align: middle;\n",
       "    }\n",
       "\n",
       "    .dataframe tbody tr th {\n",
       "        vertical-align: top;\n",
       "    }\n",
       "\n",
       "    .dataframe thead th {\n",
       "        text-align: right;\n",
       "    }\n",
       "</style>\n",
       "<table border=\"1\" class=\"dataframe\">\n",
       "  <thead>\n",
       "    <tr style=\"text-align: right;\">\n",
       "      <th></th>\n",
       "      <th>0</th>\n",
       "      <th>1</th>\n",
       "      <th>2</th>\n",
       "      <th>3</th>\n",
       "      <th>4</th>\n",
       "      <th>5</th>\n",
       "      <th>6</th>\n",
       "      <th>7</th>\n",
       "      <th>8</th>\n",
       "      <th>9</th>\n",
       "      <th>10</th>\n",
       "    </tr>\n",
       "  </thead>\n",
       "  <tbody>\n",
       "    <tr>\n",
       "      <th>0</th>\n",
       "      <td>8.889843e-04</td>\n",
       "      <td>6.268238e-06</td>\n",
       "      <td>7.081593e-06</td>\n",
       "      <td>8.473123e-06</td>\n",
       "      <td>0.000004</td>\n",
       "      <td>0.000004</td>\n",
       "      <td>8.942638e-06</td>\n",
       "      <td>-2.869817e-06</td>\n",
       "      <td>-3.439020e-07</td>\n",
       "      <td>0.000005</td>\n",
       "      <td>0.000010</td>\n",
       "    </tr>\n",
       "    <tr>\n",
       "      <th>1</th>\n",
       "      <td>6.268238e-06</td>\n",
       "      <td>8.852395e-04</td>\n",
       "      <td>5.425622e-06</td>\n",
       "      <td>6.123068e-06</td>\n",
       "      <td>0.000004</td>\n",
       "      <td>0.000004</td>\n",
       "      <td>6.358393e-06</td>\n",
       "      <td>4.378963e-07</td>\n",
       "      <td>1.703905e-06</td>\n",
       "      <td>0.000004</td>\n",
       "      <td>0.000007</td>\n",
       "    </tr>\n",
       "    <tr>\n",
       "      <th>2</th>\n",
       "      <td>7.081593e-06</td>\n",
       "      <td>5.425622e-06</td>\n",
       "      <td>8.861871e-04</td>\n",
       "      <td>6.889318e-06</td>\n",
       "      <td>0.000004</td>\n",
       "      <td>0.000004</td>\n",
       "      <td>7.201002e-06</td>\n",
       "      <td>-6.406037e-07</td>\n",
       "      <td>1.036205e-06</td>\n",
       "      <td>0.000005</td>\n",
       "      <td>0.000008</td>\n",
       "    </tr>\n",
       "    <tr>\n",
       "      <th>3</th>\n",
       "      <td>8.473123e-06</td>\n",
       "      <td>6.123068e-06</td>\n",
       "      <td>6.889318e-06</td>\n",
       "      <td>8.884218e-04</td>\n",
       "      <td>0.000004</td>\n",
       "      <td>0.000004</td>\n",
       "      <td>8.642580e-06</td>\n",
       "      <td>-2.485757e-06</td>\n",
       "      <td>-1.061302e-07</td>\n",
       "      <td>0.000005</td>\n",
       "      <td>0.000009</td>\n",
       "    </tr>\n",
       "    <tr>\n",
       "      <th>4</th>\n",
       "      <td>4.292967e-06</td>\n",
       "      <td>4.027941e-06</td>\n",
       "      <td>4.114354e-06</td>\n",
       "      <td>4.262195e-06</td>\n",
       "      <td>0.000884</td>\n",
       "      <td>0.000004</td>\n",
       "      <td>4.312078e-06</td>\n",
       "      <td>3.057083e-06</td>\n",
       "      <td>3.325445e-06</td>\n",
       "      <td>0.000004</td>\n",
       "      <td>0.000004</td>\n",
       "    </tr>\n",
       "    <tr>\n",
       "      <th>5</th>\n",
       "      <td>3.636497e-06</td>\n",
       "      <td>3.698913e-06</td>\n",
       "      <td>3.678562e-06</td>\n",
       "      <td>3.643745e-06</td>\n",
       "      <td>0.000004</td>\n",
       "      <td>0.000884</td>\n",
       "      <td>3.631997e-06</td>\n",
       "      <td>3.927555e-06</td>\n",
       "      <td>3.864355e-06</td>\n",
       "      <td>0.000004</td>\n",
       "      <td>0.000004</td>\n",
       "    </tr>\n",
       "    <tr>\n",
       "      <th>6</th>\n",
       "      <td>8.942638e-06</td>\n",
       "      <td>6.358393e-06</td>\n",
       "      <td>7.201002e-06</td>\n",
       "      <td>8.642580e-06</td>\n",
       "      <td>0.000004</td>\n",
       "      <td>0.000004</td>\n",
       "      <td>8.893505e-04</td>\n",
       "      <td>-3.108329e-06</td>\n",
       "      <td>-4.915650e-07</td>\n",
       "      <td>0.000005</td>\n",
       "      <td>0.000010</td>\n",
       "    </tr>\n",
       "    <tr>\n",
       "      <th>7</th>\n",
       "      <td>-2.869817e-06</td>\n",
       "      <td>4.378963e-07</td>\n",
       "      <td>-6.406037e-07</td>\n",
       "      <td>-2.485757e-06</td>\n",
       "      <td>0.000003</td>\n",
       "      <td>0.000004</td>\n",
       "      <td>-3.108329e-06</td>\n",
       "      <td>8.927764e-04</td>\n",
       "      <td>9.205521e-06</td>\n",
       "      <td>0.000002</td>\n",
       "      <td>-0.000004</td>\n",
       "    </tr>\n",
       "    <tr>\n",
       "      <th>8</th>\n",
       "      <td>-3.439020e-07</td>\n",
       "      <td>1.703905e-06</td>\n",
       "      <td>1.036205e-06</td>\n",
       "      <td>-1.061302e-07</td>\n",
       "      <td>0.000003</td>\n",
       "      <td>0.000004</td>\n",
       "      <td>-4.915650e-07</td>\n",
       "      <td>9.205521e-06</td>\n",
       "      <td>8.873535e-04</td>\n",
       "      <td>0.000003</td>\n",
       "      <td>-0.000001</td>\n",
       "    </tr>\n",
       "    <tr>\n",
       "      <th>9</th>\n",
       "      <td>4.956085e-06</td>\n",
       "      <td>4.360300e-06</td>\n",
       "      <td>4.554559e-06</td>\n",
       "      <td>4.886908e-06</td>\n",
       "      <td>0.000004</td>\n",
       "      <td>0.000004</td>\n",
       "      <td>4.999045e-06</td>\n",
       "      <td>2.177797e-06</td>\n",
       "      <td>2.781078e-06</td>\n",
       "      <td>0.000884</td>\n",
       "      <td>0.000005</td>\n",
       "    </tr>\n",
       "    <tr>\n",
       "      <th>10</th>\n",
       "      <td>9.827251e-06</td>\n",
       "      <td>6.801768e-06</td>\n",
       "      <td>7.788245e-06</td>\n",
       "      <td>9.475961e-06</td>\n",
       "      <td>0.000004</td>\n",
       "      <td>0.000004</td>\n",
       "      <td>1.004541e-05</td>\n",
       "      <td>-4.281316e-06</td>\n",
       "      <td>-1.217762e-06</td>\n",
       "      <td>0.000005</td>\n",
       "      <td>0.000891</td>\n",
       "    </tr>\n",
       "  </tbody>\n",
       "</table>\n",
       "</div>"
      ],
      "text/plain": [
       "              0             1             2             3         4   \\\n",
       "0   8.889843e-04  6.268238e-06  7.081593e-06  8.473123e-06  0.000004   \n",
       "1   6.268238e-06  8.852395e-04  5.425622e-06  6.123068e-06  0.000004   \n",
       "2   7.081593e-06  5.425622e-06  8.861871e-04  6.889318e-06  0.000004   \n",
       "3   8.473123e-06  6.123068e-06  6.889318e-06  8.884218e-04  0.000004   \n",
       "4   4.292967e-06  4.027941e-06  4.114354e-06  4.262195e-06  0.000884   \n",
       "5   3.636497e-06  3.698913e-06  3.678562e-06  3.643745e-06  0.000004   \n",
       "6   8.942638e-06  6.358393e-06  7.201002e-06  8.642580e-06  0.000004   \n",
       "7  -2.869817e-06  4.378963e-07 -6.406037e-07 -2.485757e-06  0.000003   \n",
       "8  -3.439020e-07  1.703905e-06  1.036205e-06 -1.061302e-07  0.000003   \n",
       "9   4.956085e-06  4.360300e-06  4.554559e-06  4.886908e-06  0.000004   \n",
       "10  9.827251e-06  6.801768e-06  7.788245e-06  9.475961e-06  0.000004   \n",
       "\n",
       "          5             6             7             8         9         10  \n",
       "0   0.000004  8.942638e-06 -2.869817e-06 -3.439020e-07  0.000005  0.000010  \n",
       "1   0.000004  6.358393e-06  4.378963e-07  1.703905e-06  0.000004  0.000007  \n",
       "2   0.000004  7.201002e-06 -6.406037e-07  1.036205e-06  0.000005  0.000008  \n",
       "3   0.000004  8.642580e-06 -2.485757e-06 -1.061302e-07  0.000005  0.000009  \n",
       "4   0.000004  4.312078e-06  3.057083e-06  3.325445e-06  0.000004  0.000004  \n",
       "5   0.000884  3.631997e-06  3.927555e-06  3.864355e-06  0.000004  0.000004  \n",
       "6   0.000004  8.893505e-04 -3.108329e-06 -4.915650e-07  0.000005  0.000010  \n",
       "7   0.000004 -3.108329e-06  8.927764e-04  9.205521e-06  0.000002 -0.000004  \n",
       "8   0.000004 -4.915650e-07  9.205521e-06  8.873535e-04  0.000003 -0.000001  \n",
       "9   0.000004  4.999045e-06  2.177797e-06  2.781078e-06  0.000884  0.000005  \n",
       "10  0.000004  1.004541e-05 -4.281316e-06 -1.217762e-06  0.000005  0.000891  "
      ]
     },
     "execution_count": 170,
     "metadata": {},
     "output_type": "execute_result"
    }
   ],
   "source": [
    "## Equation (5.3)\n",
    "L2 = data_all_event.shape[0]\n",
    "V_hat = sigma2_hat*np.eye(L2) + sigma2_hat*X_event@np.linalg.inv(X_estimation.T@X_estimation)@X_event.T.values\n",
    "V_hat"
   ]
  },
  {
   "cell_type": "code",
   "execution_count": 171,
   "id": "1372bad9",
   "metadata": {},
   "outputs": [],
   "source": [
    "## Sample standard errors of ARs\n",
    "data_all_event['s.e._abnormal_return'] = np.sqrt(np.diag(V_hat))"
   ]
  },
  {
   "cell_type": "code",
   "execution_count": 172,
   "id": "7fe5a104",
   "metadata": {},
   "outputs": [],
   "source": [
    "# Calculating the sample standard errors of CARs\n",
    "data_all_event['s.e._cumulative_abnormal_return'] = np.sqrt(np.cumsum(np.diag(V_hat)))"
   ]
  },
  {
   "cell_type": "code",
   "execution_count": 173,
   "id": "d0a0e48d",
   "metadata": {},
   "outputs": [],
   "source": [
    "# t statistics and p values: Testing the significance of CARs\n",
    "data_all_event['t_cumulative_abnormal_return'] = data_all_event['cumulative_abnormal_return'] / data_all_event['s.e._cumulative_abnormal_return']\n",
    "data_all_event['p_cumulative_abnormal_return'] = 2*t.sf(np.abs(data_all_event['t_cumulative_abnormal_return']), L1 - 2)"
   ]
  },
  {
   "cell_type": "code",
   "execution_count": 174,
   "id": "c9d59a65",
   "metadata": {},
   "outputs": [],
   "source": [
    "# Confidence intervals: CARs\n",
    "data_all_event['upper_cumulative_abnormal_return'] = data_all_event['cumulative_abnormal_return'] + t.ppf(1 - 0.1/2, L1 - 2)*data_all_event['s.e._cumulative_abnormal_return']\n",
    "data_all_event['lower_cumulative_abnormal_return'] = data_all_event['cumulative_abnormal_return'] - t.ppf(1 - 0.1/2, L1 - 2)*data_all_event['s.e._cumulative_abnormal_return']"
   ]
  },
  {
   "cell_type": "code",
   "execution_count": 175,
   "id": "50303cc4",
   "metadata": {},
   "outputs": [
    {
     "data": {
      "text/html": [
       "<div>\n",
       "<style scoped>\n",
       "    .dataframe tbody tr th:only-of-type {\n",
       "        vertical-align: middle;\n",
       "    }\n",
       "\n",
       "    .dataframe tbody tr th {\n",
       "        vertical-align: top;\n",
       "    }\n",
       "\n",
       "    .dataframe thead th {\n",
       "        text-align: right;\n",
       "    }\n",
       "</style>\n",
       "<table border=\"1\" class=\"dataframe\">\n",
       "  <thead>\n",
       "    <tr style=\"text-align: right;\">\n",
       "      <th></th>\n",
       "      <th>event_time</th>\n",
       "      <th>AR</th>\n",
       "      <th>s.e._AR</th>\n",
       "      <th>CAR</th>\n",
       "      <th>s.e._CAR</th>\n",
       "      <th>t_CAR</th>\n",
       "      <th>p_CAR</th>\n",
       "      <th>upper_CAR</th>\n",
       "      <th>lower_CAR</th>\n",
       "    </tr>\n",
       "  </thead>\n",
       "  <tbody>\n",
       "    <tr>\n",
       "      <th>0</th>\n",
       "      <td>-5</td>\n",
       "      <td>-0.258277</td>\n",
       "      <td>0.029816</td>\n",
       "      <td>-0.258277</td>\n",
       "      <td>0.029816</td>\n",
       "      <td>-8.662397</td>\n",
       "      <td>7.972341e-16</td>\n",
       "      <td>-0.209037</td>\n",
       "      <td>-0.307516</td>\n",
       "    </tr>\n",
       "    <tr>\n",
       "      <th>1</th>\n",
       "      <td>-4</td>\n",
       "      <td>-0.132802</td>\n",
       "      <td>0.029753</td>\n",
       "      <td>-0.391078</td>\n",
       "      <td>0.042122</td>\n",
       "      <td>-9.284523</td>\n",
       "      <td>1.203572e-17</td>\n",
       "      <td>-0.321517</td>\n",
       "      <td>-0.460640</td>\n",
       "    </tr>\n",
       "    <tr>\n",
       "      <th>2</th>\n",
       "      <td>-3</td>\n",
       "      <td>-0.030049</td>\n",
       "      <td>0.029769</td>\n",
       "      <td>-0.421127</td>\n",
       "      <td>0.051579</td>\n",
       "      <td>-8.164679</td>\n",
       "      <td>2.060029e-14</td>\n",
       "      <td>-0.335947</td>\n",
       "      <td>-0.506308</td>\n",
       "    </tr>\n",
       "    <tr>\n",
       "      <th>3</th>\n",
       "      <td>-2</td>\n",
       "      <td>-0.004059</td>\n",
       "      <td>0.029806</td>\n",
       "      <td>-0.425186</td>\n",
       "      <td>0.059572</td>\n",
       "      <td>-7.137344</td>\n",
       "      <td>1.209825e-11</td>\n",
       "      <td>-0.326806</td>\n",
       "      <td>-0.523567</td>\n",
       "    </tr>\n",
       "    <tr>\n",
       "      <th>4</th>\n",
       "      <td>-1</td>\n",
       "      <td>0.001546</td>\n",
       "      <td>0.029733</td>\n",
       "      <td>-0.423641</td>\n",
       "      <td>0.066580</td>\n",
       "      <td>-6.362900</td>\n",
       "      <td>1.045387e-09</td>\n",
       "      <td>-0.313688</td>\n",
       "      <td>-0.533594</td>\n",
       "    </tr>\n",
       "    <tr>\n",
       "      <th>5</th>\n",
       "      <td>0</td>\n",
       "      <td>0.020065</td>\n",
       "      <td>0.029732</td>\n",
       "      <td>-0.403575</td>\n",
       "      <td>0.072917</td>\n",
       "      <td>-5.534740</td>\n",
       "      <td>8.399459e-08</td>\n",
       "      <td>-0.283157</td>\n",
       "      <td>-0.523994</td>\n",
       "    </tr>\n",
       "    <tr>\n",
       "      <th>6</th>\n",
       "      <td>1</td>\n",
       "      <td>-0.033658</td>\n",
       "      <td>0.029822</td>\n",
       "      <td>-0.437233</td>\n",
       "      <td>0.078779</td>\n",
       "      <td>-5.550086</td>\n",
       "      <td>7.773868e-08</td>\n",
       "      <td>-0.307133</td>\n",
       "      <td>-0.567333</td>\n",
       "    </tr>\n",
       "    <tr>\n",
       "      <th>7</th>\n",
       "      <td>2</td>\n",
       "      <td>0.038026</td>\n",
       "      <td>0.029879</td>\n",
       "      <td>-0.399207</td>\n",
       "      <td>0.084255</td>\n",
       "      <td>-4.738055</td>\n",
       "      <td>3.761686e-06</td>\n",
       "      <td>-0.260064</td>\n",
       "      <td>-0.538351</td>\n",
       "    </tr>\n",
       "    <tr>\n",
       "      <th>8</th>\n",
       "      <td>3</td>\n",
       "      <td>-0.026184</td>\n",
       "      <td>0.029788</td>\n",
       "      <td>-0.425391</td>\n",
       "      <td>0.089366</td>\n",
       "      <td>-4.760078</td>\n",
       "      <td>3.406411e-06</td>\n",
       "      <td>-0.277807</td>\n",
       "      <td>-0.572974</td>\n",
       "    </tr>\n",
       "    <tr>\n",
       "      <th>9</th>\n",
       "      <td>4</td>\n",
       "      <td>0.005086</td>\n",
       "      <td>0.029737</td>\n",
       "      <td>-0.420305</td>\n",
       "      <td>0.094184</td>\n",
       "      <td>-4.462597</td>\n",
       "      <td>1.263308e-05</td>\n",
       "      <td>-0.264765</td>\n",
       "      <td>-0.575845</td>\n",
       "    </tr>\n",
       "    <tr>\n",
       "      <th>10</th>\n",
       "      <td>5</td>\n",
       "      <td>0.037480</td>\n",
       "      <td>0.029855</td>\n",
       "      <td>-0.382825</td>\n",
       "      <td>0.098803</td>\n",
       "      <td>-3.874644</td>\n",
       "      <td>1.389776e-04</td>\n",
       "      <td>-0.219657</td>\n",
       "      <td>-0.545992</td>\n",
       "    </tr>\n",
       "  </tbody>\n",
       "</table>\n",
       "</div>"
      ],
      "text/plain": [
       "    event_time        AR   s.e._AR       CAR  s.e._CAR     t_CAR  \\\n",
       "0           -5 -0.258277  0.029816 -0.258277  0.029816 -8.662397   \n",
       "1           -4 -0.132802  0.029753 -0.391078  0.042122 -9.284523   \n",
       "2           -3 -0.030049  0.029769 -0.421127  0.051579 -8.164679   \n",
       "3           -2 -0.004059  0.029806 -0.425186  0.059572 -7.137344   \n",
       "4           -1  0.001546  0.029733 -0.423641  0.066580 -6.362900   \n",
       "5            0  0.020065  0.029732 -0.403575  0.072917 -5.534740   \n",
       "6            1 -0.033658  0.029822 -0.437233  0.078779 -5.550086   \n",
       "7            2  0.038026  0.029879 -0.399207  0.084255 -4.738055   \n",
       "8            3 -0.026184  0.029788 -0.425391  0.089366 -4.760078   \n",
       "9            4  0.005086  0.029737 -0.420305  0.094184 -4.462597   \n",
       "10           5  0.037480  0.029855 -0.382825  0.098803 -3.874644   \n",
       "\n",
       "           p_CAR  upper_CAR  lower_CAR  \n",
       "0   7.972341e-16  -0.209037  -0.307516  \n",
       "1   1.203572e-17  -0.321517  -0.460640  \n",
       "2   2.060029e-14  -0.335947  -0.506308  \n",
       "3   1.209825e-11  -0.326806  -0.523567  \n",
       "4   1.045387e-09  -0.313688  -0.533594  \n",
       "5   8.399459e-08  -0.283157  -0.523994  \n",
       "6   7.773868e-08  -0.307133  -0.567333  \n",
       "7   3.761686e-06  -0.260064  -0.538351  \n",
       "8   3.406411e-06  -0.277807  -0.572974  \n",
       "9   1.263308e-05  -0.264765  -0.575845  \n",
       "10  1.389776e-04  -0.219657  -0.545992  "
      ]
     },
     "execution_count": 175,
     "metadata": {},
     "output_type": "execute_result"
    }
   ],
   "source": [
    "data_all_event.rename(columns={'abnormal_return': 'AR',\n",
    "                               'cumulative_abnormal_return': 'CAR',\n",
    "                               's.e._abnormal_return': 's.e._AR',\n",
    "                               's.e._cumulative_abnormal_return': 's.e._CAR',\n",
    "                               't_cumulative_abnormal_return': 't_CAR',\n",
    "                               'p_cumulative_abnormal_return': 'p_CAR',\n",
    "                               'upper_cumulative_abnormal_return': 'upper_CAR',\n",
    "                               'lower_cumulative_abnormal_return': 'lower_CAR'}, inplace=True)\n",
    "data_all_event[['event_time', 'AR', 's.e._AR', 'CAR', 's.e._CAR', 't_CAR', 'p_CAR', 'upper_CAR', 'lower_CAR']]"
   ]
  },
  {
   "cell_type": "code",
   "execution_count": 176,
   "id": "91ad1b19",
   "metadata": {},
   "outputs": [
    {
     "data": {
      "image/png": "[encoded data removed]",
      "text/plain": [
       "<Figure size 1000x600 with 1 Axes>"
      ]
     },
     "metadata": {},
     "output_type": "display_data"
    }
   ],
   "source": [
    "# Plotting the cumulative abnormal returns\n",
    "plt.figure(figsize=(10, 6)) \n",
    "plt.plot(data_all_event['event_time'], 100*data_all_event['CAR'], \n",
    "         marker='o', linestyle='-', color='black', markersize=6) \n",
    "plt.plot(data_all_event['event_time'], 100*data_all_event['upper_CAR'], \n",
    "         marker='s', linestyle='--', color='blue', markersize=4) \n",
    "plt.plot(data_all_event['event_time'], 100*data_all_event['lower_CAR'], \n",
    "         marker='s', linestyle='--', color='blue', markersize=4) \n",
    "plt.axhline(0, color='black', linewidth=0.8)\n",
    "\n",
    "## Customizing the plot\n",
    "plt.xlabel('Event Time', fontsize=16)\n",
    "plt.ylabel('CAR (%)', fontsize=16)\n",
    "ticks = [-5, -4, -3, -2, -1, 0, 1, 2, 3, 4, 5]\n",
    "plt.xticks(ticks, ticks)\n",
    "plt.xticks(fontsize=14)\n",
    "plt.yticks(fontsize=14)\n",
    "\n",
    "## Showing the plot\n",
    "plt.show()"
   ]
  },
  {
   "cell_type": "markdown",
   "id": "a65dc75a",
   "metadata": {},
   "source": [
    "### Replicating the results provided by the 'eventstudy' library"
   ]
  },
  {
   "cell_type": "code",
   "execution_count": 177,
   "id": "24e79cfd",
   "metadata": {},
   "outputs": [
    {
     "data": {
      "text/plain": [
       "np.float64(0.029541466534239225)"
      ]
     },
     "execution_count": 177,
     "metadata": {},
     "output_type": "execute_result"
    }
   ],
   "source": [
    "# Sample standard errors of ARs\n",
    "np.sqrt(np.var(e_hat_estimation))"
   ]
  },
  {
   "cell_type": "code",
   "execution_count": 178,
   "id": "db1daba3",
   "metadata": {},
   "outputs": [
    {
     "data": {
      "text/plain": [
       "array([0.02954147, 0.04177794, 0.05116732, 0.05908293, 0.06605673,\n",
       "       0.07236152, 0.07815937, 0.08355589, 0.0886244 , 0.09341832,\n",
       "       0.09797796])"
      ]
     },
     "execution_count": 178,
     "metadata": {},
     "output_type": "execute_result"
    }
   ],
   "source": [
    "# Sample standard errors of CARs\n",
    "np.sqrt(np.var(e_hat_estimation)*range(1,12))"
   ]
  },
  {
   "cell_type": "code",
   "execution_count": 179,
   "id": "5eb53e10",
   "metadata": {},
   "outputs": [
    {
     "data": {
      "text/plain": [
       "array([[-8.74285134, -9.36088096, -8.23039751, -7.1964342 , -6.41328652,\n",
       "        -5.5772115 , -5.59412113, -4.77772586, -4.79992711, -4.49916885,\n",
       "        -3.90725382]])"
      ]
     },
     "execution_count": 179,
     "metadata": {},
     "output_type": "execute_result"
    }
   ],
   "source": [
    "# t statistics\n",
    "t_statistic = np.array(data_all_event[['CAR']].T) / np.array(np.sqrt(np.var(e_hat_estimation)*range(1,12))).T\n",
    "t_statistic"
   ]
  },
  {
   "cell_type": "code",
   "execution_count": 180,
   "id": "11de70a4",
   "metadata": {},
   "outputs": [
    {
     "data": {
      "text/plain": [
       "array([[4.67108781e-16, 7.12947112e-18, 1.34850463e-14, 8.49838823e-12,\n",
       "        7.90015475e-10, 6.77736801e-08, 6.22039050e-08, 3.14530651e-06,\n",
       "        2.84417493e-06, 1.07902625e-05, 1.22508989e-04]])"
      ]
     },
     "execution_count": 180,
     "metadata": {},
     "output_type": "execute_result"
    }
   ],
   "source": [
    "# p values\n",
    "2*t.sf(np.abs(t_statistic), data_all_estimation.shape[0] - 2)"
   ]
  },
  {
   "cell_type": "code",
   "execution_count": null,
   "id": "1a8475e4",
   "metadata": {},
   "outputs": [],
   "source": []
  }
 ],
 "metadata": {
  "kernelspec": {
   "display_name": "Python 3 (ipykernel)",
   "language": "python",
   "name": "python3"
  },
  "language_info": {
   "codemirror_mode": {
    "name": "ipython",
    "version": 3
   },
   "file_extension": ".py",
   "mimetype": "text/x-python",
   "name": "python",
   "nbconvert_exporter": "python",
   "pygments_lexer": "ipython3",
   "version": "3.10.15"
  }
 },
 "nbformat": 4,
 "nbformat_minor": 5
}
